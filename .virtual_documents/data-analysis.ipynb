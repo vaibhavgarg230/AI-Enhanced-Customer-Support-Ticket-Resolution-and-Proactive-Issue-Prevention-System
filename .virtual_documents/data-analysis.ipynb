import pandas as pd


# https://www.kaggle.com/datasets/nirmalgaud/customer-complaints-ticket-classification

# https://www.kaggle.com/datasets/aniketg11/supportticketsclassification


df = pd.read_csv("customer_support_tickets.csv")
df.head()


# prompt: calculate time taken to solve the issue using First Response Time (start time), Time to Resolution (end time), and put it in bins of 5 hours

import pandas as pd

# Assuming your DataFrame is named 'df' and contains columns 'First Response Time' and 'Time to Resolution'
# Replace 'First Response Time' and 'Time to Resolution' with your actual column names if they are different.

# Convert time columns to datetime objects if they are not already
df['First Response Time'] = pd.to_datetime(df['First Response Time'])
df['Time to Resolution'] = pd.to_datetime(df['Time to Resolution'])

# Calculate the time taken to solve the issue
df['Time Taken'] = (df['Time to Resolution'] - df['First Response Time']).dt.total_seconds() / 3600  # Time difference in hours

# Create bins of 5 hours
bins = range(0, int(df['Time Taken'].max()) + 6, 5)  # Create bins up to the maximum time taken, with 5-hour intervals

# Use pd.cut to categorize the time taken into bins
df['Time Taken Bins'] = pd.cut(df['Time Taken'], bins=bins, right=False)

# Print the DataFrame with the new 'Time Taken Bins' column
df


df["Time Taken Bins"].value_counts()


df.loc[df["Time Taken Bins"].map(str).eq("[20, 25)"), :]


df.shape


df.columns


# prompt: count of each ticket type
import pandas as pd 
import matplotlib.pyplot as plt 
import seaborn as sns

# Assuming 'df' is already loaded as in the previous code
# df = pd.read_csv("customer_support_tickets.csv")

Ticket_Type = df['Ticket Type'].unique()
Ticket_Type_Count = df['Ticket Type'].value_counts()

plt.figure(figsize=(10, 6))
Ticket_Type_Count.plot(kind='bar', color='lightcoral')
plt.xlabel('Ticket Type')
plt.ylabel('Count')
plt.title('Count of Each Ticket Type')
plt.xticks(rotation=45, ha='right')
plt.tight_layout()
plt.show()


# prompt: Ticket status Distribution of each query issue

import pandas as pd
import matplotlib.pyplot as plt
import seaborn as sns

# Assuming 'df' is already loaded as in the previous code
# df = pd.read_csv("customer_support_tickets.csv")

Ticket_Status = df['Ticket Status'].unique()
ticket_status_counts = df.groupby('Ticket Type')['Ticket Status'].value_counts().unstack(fill_value=0)

for ticket_type in ticket_status_counts.index:
    plt.figure(figsize=(6, 6))
    status_counts = ticket_status_counts.loc[ticket_type]
    
    plt.pie(status_counts, labels=status_counts.index, autopct='%1.1f%%', startangle=90, colors=['#66b3ff', '#99ff99', '#ff6666'])
    plt.title(f'Ticket Status Distribution for "{ticket_type}"')
    plt.axis('equal') 
    plt.show()


# prompt: for every product, make value count bar chart for top 3 issues that that product has

import pandas as pd
import matplotlib.pyplot as plt
import seaborn as sns

# Assuming 'df' is already loaded as in the previous code
# df = pd.read_csv("customer_support_tickets.csv")

def plot_top_issues(product):
    product_df = df[df['Product Purchased'] == product]
    top_issues = product_df['Ticket Type'].value_counts().nlargest(3)
    plt.figure(figsize=(8, 6))
    sns.barplot(x=top_issues.index, y=top_issues.values)
    plt.title(f'Top 3 Issues for {product}')
    plt.xlabel('Issue')
    plt.ylabel('Count')
    plt.xticks(rotation=45, ha='right')  # Rotate x-axis labels for readability
    plt.tight_layout()  # Adjust layout to prevent labels from overlapping
    plt.show()


# Get unique products
products = df['Product Purchased'].unique()

for product in products:
    plot_top_issues(product)


# prompt: value count bar chart for age, sorted by age on x axis

import pandas as pd
import matplotlib.pyplot as plt
# Assuming you've already loaded the dataframe 'df' as shown in the previous code.
# If not, run the previous code first.
df = pd.read_csv("customer_support_tickets.csv")

# Value counts of 'Age'
age_counts = df['Customer Age'].value_counts().sort_index()

# Create the bar chart
plt.figure(figsize=(12, 6))  # Adjust figure size for better readability
plt.bar(age_counts.index, age_counts.values)
plt.xlabel("Age")
plt.ylabel("Count")
plt.title("Value Counts of Age")
plt.xticks(rotation=45, ha='right') # Rotate x-axis labels for better readability if needed
plt.tight_layout() # Adjust layout to prevent labels from overlapping
plt.show()


# Product Purchased
# prompt: top 3 issues by counts for every age group in bins of 10 years

import pandas as pd
import matplotlib.pyplot as plt

# Create age bins
df['Age Group'] = pd.cut(df['Customer Age'], bins=range(0, 101, 10), right=False)

# Group by age group and issue, then count occurrences
issue_counts = df.groupby(['Age Group', 'Ticket Type'])['Ticket Type'].count().unstack()

# Find the top 3 issues for each age group
top_3_issues = issue_counts.apply(lambda x: x.nlargest(3).index.tolist(), axis=1)

# Print the result
print(top_3_issues)


# Plotting (optional):  Visualize top 3 issues for each age group
for age_group, issues in top_3_issues.items():
    counts = issue_counts.loc[age_group][issues]
    plt.figure(figsize=(8, 6))
    counts.plot(kind='bar')
    plt.title(f'Top 3 Issues for Age Group: {age_group}')
    plt.xlabel('Issue')
    plt.ylabel('Count')
    plt.xticks(rotation=45, ha='right')
    plt.tight_layout()
    plt.show()


# prompt: top 3 issues by counts for every age group in bins of 10 years

import pandas as pd
import matplotlib.pyplot as plt

# Create age bins
df['Age Group'] = pd.cut(df['Customer Age'], bins=range(0, 101, 10), right=False)

# Group by age group and issue, then count occurrences
issue_counts = df.groupby(['Age Group', 'Product Purchased'])['Product Purchased'].count().unstack()

# Find the top 3 issues for each age group
top_3_issues = issue_counts.apply(lambda x: x.nlargest(3).index.tolist(), axis=1)

# Print the result
print(top_3_issues)


# Plotting (optional):  Visualize top 3 issues for each age group
for age_group, issues in top_3_issues.items():
    counts = issue_counts.loc[age_group][issues]
    plt.figure(figsize=(8, 6))
    counts.plot(kind='bar')
    plt.title(f'Top 3 Issues for Age Group: {age_group}')
    plt.xlabel('Issue')
    plt.ylabel('Count')
    plt.xticks(rotation=45, ha='right')
    plt.tight_layout()
    plt.show()


df["Ticket Type"].unique()


df["Ticket Priority"].unique()


df["Ticket Subject"].unique()


df["Ticket Channel"].unique()


df["Ticket Status"].unique()


# prompt: "Ticket Subject", "Ticket Description" make an embedding of strings and make a correlatioin matrix heat map, use GUSE model

!pip install sentence-transformers

import pandas as pd
from sentence_transformers import SentenceTransformer, util
import matplotlib.pyplot as plt
import seaborn as sns

# Load the data (assuming customer_support_tickets.csv is in the current directory)
df = pd.read_csv("customer_support_tickets.csv")

# Select the relevant columns
text_data = df[["Ticket Subject", "Ticket Description"]]

# Initialize the GUSE model
model = SentenceTransformer('all-mpnet-base-v2') # Using a strong general-purpose model

# Generate embeddings for the "Ticket Subject" and "Ticket Description"
subject_embeddings = model.encode(df["Ticket Subject"].tolist())
description_embeddings = model.encode(df["Ticket Description"].tolist())

# Calculate cosine similarity between embeddings
correlation_matrix = util.cos_sim(subject_embeddings, description_embeddings)

# Convert the similarity matrix to a DataFrame for visualization
correlation_df = pd.DataFrame(correlation_matrix.numpy())

# Create a heatmap
plt.figure(figsize=(10, 8))
sns.heatmap(correlation_df, cmap="YlGnBu")
plt.title("Correlation Matrix of Ticket Subject and Description Embeddings")
plt.xlabel("Ticket Description Embeddings")
plt.ylabel("Ticket Subject Embeddings")
plt.show()


# prompt: "Ticket Description" word cloud

from wordcloud import WordCloud, STOPWORDS
import matplotlib.pyplot as plt

# Combine all ticket descriptions into a single string
text = " ".join(df["Ticket Description"].astype(str))

# Create a WordCloud object
wordcloud = WordCloud(width=800, height=400, background_color="white", stopwords=STOPWORDS).generate(text)

# Display the generated image:
plt.figure(figsize=(10, 5), facecolor=None)
plt.imshow(wordcloud)
plt.axis("off")
plt.tight_layout(pad=0)
plt.show()


df["Ticket Description"][100]












